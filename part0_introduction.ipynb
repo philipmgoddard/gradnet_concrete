{
 "cells": [
  {
   "cell_type": "markdown",
   "metadata": {
    "collapsed": true
   },
   "source": [
    "# Mixture optimisation using machine learning\n",
    "\n",
    "In this tutorial we will be investigating how to apply machine learning techniques to a mixture optimisation problem.\n",
    "\n",
    "This is a important step in a 'designed experiment', where the exact values of a mixture is determined using a strategic methodology. Such mixture design experiments are often used in the fields of pharmaceutical and material design.\n",
    "\n",
    "We will be following a study by Yeh (Journal of Materials in Civil Engineering, 18, 597–604), which is explored by Kuhn and Johnson in their book, Applied Predictive Modelling.\n",
    "\n",
    "Concrete is an integral part of most industrialized societies. It is used to some extent in nearly all structures and in many roads. One of the main properties of interest (beside cost) is the compressive strength of the hardened concrete.\n",
    "\n",
    "We will be using a data set which provides us with several hundred concrete mixtures and their compressive strength. Our overall aim is to build a model which can accurately predict compressive strength based on the ingredients, and then to use this model to predict the strongest mixtures, which can lead further experiment.\n",
    "\n",
    "We will be making use of several scientific Python libraries to follow through elements of this experiment. Specifically, will be using Pandas to hold and manipulate structured data, Matplotlib to visualise our data, Scikit-Learn to build machine learning models, and Scipy to perform an optimisation.\n",
    "\n",
    "\n",
    "Our objectives are:\n",
    "\n",
    "1) Introduce Pandas, and to use the library to hold our data in a structured format\n",
    "\n",
    "2) Use Matplotlib to visualise our data, and gain some intuition of what ingredients and relationships may be important for our model\n",
    "\n",
    "3) Introduce Scikit-Learn, and use it to build some regression models so that we can accurately predict compressive strenght from the mixture\n",
    "\n",
    "4) Perform an optimisation process using SciPy to create some predictions of the optimal concrete mixture"
   ]
  }
 ],
 "metadata": {
  "kernelspec": {
   "display_name": "Python 3",
   "language": "python",
   "name": "python3"
  },
  "language_info": {
   "codemirror_mode": {
    "name": "ipython",
    "version": 3
   },
   "file_extension": ".py",
   "mimetype": "text/x-python",
   "name": "python",
   "nbconvert_exporter": "python",
   "pygments_lexer": "ipython3",
   "version": "3.6.2"
  }
 },
 "nbformat": 4,
 "nbformat_minor": 0
}
