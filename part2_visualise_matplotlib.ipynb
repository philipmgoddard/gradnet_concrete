{
 "cells": [
  {
   "cell_type": "markdown",
   "metadata": {
    "collapsed": true
   },
   "source": [
    "# Part 2: Exploring your data\n",
    "\n",
    "Before we even think about modelling, we need to understand what we are dealing with. As we have limited time, we will context some exploration using visualisations.\n",
    "\n",
    "We will use a library called matplotlib, which is another open sourced project. It is a general purpose plotting library, inspired by matlab.\n",
    "\n",
    "For a regression task, we want to be able to predict out outcome (Compressive Strength) based on our inputs. Lets try and see if there are any obvious relations between the features and the outcome."
   ]
  },
  {
   "cell_type": "code",
   "execution_count": null,
   "metadata": {
    "collapsed": true
   },
   "outputs": [],
   "source": [
    "# load in pandas, matplotlib and numpy\n",
    "import pandas as pd\n",
    "import matplotlib.pyplot as plt\n",
    "import numpy as np\n",
    "\n",
    "# cell 'magic' which allows us to render our plots in the notebook\n",
    "%matplotlib inline"
   ]
  },
  {
   "cell_type": "markdown",
   "metadata": {},
   "source": [
    "## Some basic plotting"
   ]
  },
  {
   "cell_type": "code",
   "execution_count": null,
   "metadata": {
    "collapsed": false
   },
   "outputs": [],
   "source": [
    "# define two numpy arrays for our x and y data\n",
    "x = np.arange(10)\n",
    "y = x * 3\n",
    "\n",
    "print(\"x, y pairs are: {}\".format(list(zip(x, y))))"
   ]
  },
  {
   "cell_type": "code",
   "execution_count": null,
   "metadata": {
    "collapsed": false
   },
   "outputs": [],
   "source": [
    "plt.plot(x, y);"
   ]
  },
  {
   "cell_type": "code",
   "execution_count": null,
   "metadata": {
    "collapsed": false
   },
   "outputs": [],
   "source": [
    "plt.scatter(x, y);"
   ]
  },
  {
   "cell_type": "code",
   "execution_count": null,
   "metadata": {
    "collapsed": false
   },
   "outputs": [],
   "source": [
    "plt.scatter(x, y, color = \"red\", label = \"i am a label\")\n",
    "plt.xlabel(\"hat\")\n",
    "plt.ylabel(\"cat\")\n",
    "plt.legend()\n",
    "plt.title(\"I am a title\");"
   ]
  },
  {
   "cell_type": "markdown",
   "metadata": {},
   "source": [
    "Again, matplotlib contains a huge functionality, and the [API documentation](https://matplotlib.org/) is the best place to get started. Also consider these [SciPy lecture notes](https://www.scipy-lectures.org/).\n",
    "\n",
    "We will use matplotlib to explore our data. Matplotlib works natively with numpy arrays of data, but has in built flexibility to work with pandas as well."
   ]
  },
  {
   "cell_type": "code",
   "execution_count": null,
   "metadata": {
    "collapsed": false
   },
   "outputs": [],
   "source": [
    "# import our data\n",
    "concrete = pd.read_csv(\"processed/concrete_processed.csv\")\n",
    "concrete.head()"
   ]
  },
  {
   "cell_type": "code",
   "execution_count": null,
   "metadata": {
    "collapsed": false
   },
   "outputs": [],
   "source": [
    "# lets visualise cement vs compressive strength\n",
    "# alpha controls the transparency\n",
    "plt.scatter(x = concrete.loc[:, \"Cement\"], y = concrete.loc[:, \"CompressiveStrength\"], alpha = 0.6)\n",
    "plt.xlabel(\"Cement\")\n",
    "plt.ylabel(\"Compressive Strength\");"
   ]
  },
  {
   "cell_type": "markdown",
   "metadata": {},
   "source": [
    "What can we say about the relationship between the amount of cement in the mixture and compressive strength?"
   ]
  },
  {
   "cell_type": "markdown",
   "metadata": {},
   "source": [
    "## Exercise: Explore the relationships between the features and the outcome\n",
    "\n",
    "Discuss with your neighbor which features you think may be important to predict compressive strength based on the mixture."
   ]
  },
  {
   "cell_type": "code",
   "execution_count": null,
   "metadata": {
    "collapsed": true
   },
   "outputs": [],
   "source": [
    "# Your code here\n",
    "\n",
    "\n",
    "\n"
   ]
  },
  {
   "cell_type": "markdown",
   "metadata": {},
   "source": [
    "# Questions\n",
    "\n",
    "- What can we say about the relationship between the features and the outcome? Do we see any non-linear relationships?\n",
    "\n",
    "- Do all features look useful\n",
    "\n",
    "- Do some mixtures lack ingredients?\n",
    "\n",
    "You may wonder how you can model the compressive strength of the mixture based on the ingredients using such messy looking data. In the next section, we will use a powerful machine learning algorithm that can combine the features to accurately predict the outcome.\n"
   ]
  },
  {
   "cell_type": "code",
   "execution_count": null,
   "metadata": {
    "collapsed": false
   },
   "outputs": [],
   "source": [
    "# DO NOT RUN THIS CELL UNTIL EVERYONE HAS FINISHED\n",
    "\n",
    "# from funcs.plot_fun import scatter_plot\n",
    "# scatter_plot(concrete, 3, \"CompressiveStrength\")"
   ]
  }
 ],
 "metadata": {
  "kernelspec": {
   "display_name": "Python datSci3",
   "language": "python",
   "name": "datsci3-env"
  },
  "language_info": {
   "codemirror_mode": {
    "name": "ipython",
    "version": 3
   },
   "file_extension": ".py",
   "mimetype": "text/x-python",
   "name": "python",
   "nbconvert_exporter": "python",
   "pygments_lexer": "ipython3",
   "version": "3.5.2"
  }
 },
 "nbformat": 4,
 "nbformat_minor": 0
}
