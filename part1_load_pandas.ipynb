{
 "cells": [
  {
   "cell_type": "markdown",
   "metadata": {},
   "source": [
    "# Part 1: introducing Pandas\n",
    "\n",
    "Those of you who have never used jupyter notebooks before, we have an interactive python session with inline documentation using markdown.\n",
    "\n",
    "We will start by loading in our raw data using a library called pandas.\n",
    "\n",
    "Pandas (short for panel data) gives us access to a dataframe, which is an abstraction allowing us to hold data in a more convenient object than a list or array. The dataframe is also used in languages like R and frameworks like Spark to make processing data easy. Think of it like a spreadsheet on steroids, with a huge amount of built in functionality for manipulating our data. \n",
    "\n",
    "Pandas is an open-sourced library. There is a huge community of data scientists and analysts who use it and contribute to it, meaning it is high quality, under continuous development, and any bugs are fixed very rapidly."
   ]
  },
  {
   "cell_type": "code",
   "execution_count": null,
   "metadata": {
    "collapsed": true
   },
   "outputs": [],
   "source": [
    "# we load a library into our namespace like so\n",
    "import pandas as pd"
   ]
  },
  {
   "cell_type": "code",
   "execution_count": null,
   "metadata": {
    "collapsed": true
   },
   "outputs": [],
   "source": [
    "# pandas can easily read in data from a number of sources\n",
    "concrete_raw = pd.read_csv(\"raw/concrete.csv\", index_col = 0)"
   ]
  },
  {
   "cell_type": "code",
   "execution_count": null,
   "metadata": {
    "collapsed": false
   },
   "outputs": [],
   "source": [
    "# we can easily take a peek with the head() method\n",
    "concrete_raw.head()"
   ]
  },
  {
   "cell_type": "code",
   "execution_count": null,
   "metadata": {
    "collapsed": false
   },
   "outputs": [],
   "source": [
    "# we can also get a summary of our data with the info() method\n",
    "concrete_raw.info()"
   ]
  },
  {
   "cell_type": "markdown",
   "metadata": {},
   "source": [
    "pandas allows us to answer practically any question we might have about the data. The API docs can be found [here]( http://pandas.pydata.org/pandas-docs/stable/api.html).\n",
    "\n",
    "The library is huge, so unless it is all you use every day it is hard to memorise. From experience, you can begin to  understand what type of manipulations and summaries are possible, and then you can easily consult the API docs or Stack Overflow to solve your problems."
   ]
  },
  {
   "cell_type": "markdown",
   "metadata": {},
   "source": [
    "# Lets have a little play with pandas"
   ]
  },
  {
   "cell_type": "code",
   "execution_count": null,
   "metadata": {
    "collapsed": false
   },
   "outputs": [],
   "source": [
    "# how to we select data?\n",
    "\n",
    "# all rows, one column\n",
    "# note a 'series' is returned here\n",
    "concrete_raw.loc[:, 'CompressiveStrength'].head()"
   ]
  },
  {
   "cell_type": "code",
   "execution_count": null,
   "metadata": {
    "collapsed": false
   },
   "outputs": [],
   "source": [
    "# select the first three rows\n",
    "concrete_raw.loc[0:3, 'CompressiveStrength'].head()"
   ]
  },
  {
   "cell_type": "code",
   "execution_count": null,
   "metadata": {
    "collapsed": false
   },
   "outputs": [],
   "source": [
    "# pass in a list to access multiple columns (note a dataframe is returned)\n",
    "concrete_raw.loc[0:3, ['Water', 'CompressiveStrength']].head()"
   ]
  },
  {
   "cell_type": "code",
   "execution_count": null,
   "metadata": {
    "collapsed": false
   },
   "outputs": [],
   "source": [
    "# we can apply summary functions to columns\n",
    "concrete_raw.loc[:, 'CompressiveStrength'].mean()"
   ]
  },
  {
   "cell_type": "code",
   "execution_count": null,
   "metadata": {
    "collapsed": false
   },
   "outputs": [],
   "source": [
    "# we can peform groupings and aggregation\n",
    "# what is the average compressive strength for different ages of concrete?\n",
    "(\n",
    "    concrete_raw\n",
    "        .groupby('Age')\n",
    "        .agg({'CompressiveStrength': {'avg': 'mean', 'n_obs': 'count'}})\n",
    "        .reset_index()\n",
    "        .sort_values(by='Age')   \n",
    ").head()"
   ]
  },
  {
   "cell_type": "code",
   "execution_count": null,
   "metadata": {
    "collapsed": false
   },
   "outputs": [],
   "source": [
    "# we can query by filtering rows based on conditions\n",
    "concrete_raw.loc[concrete_raw['Age'] == 28, :].head()"
   ]
  },
  {
   "cell_type": "code",
   "execution_count": null,
   "metadata": {
    "collapsed": false
   },
   "outputs": [],
   "source": [
    "# or a different syntax\n",
    "concrete_raw.query('Age == 28').head()"
   ]
  },
  {
   "cell_type": "code",
   "execution_count": null,
   "metadata": {
    "collapsed": false
   },
   "outputs": [],
   "source": [
    "# we can create new columns\n",
    "concrete_raw.assign(cStrengthSq = lambda x: x.CompressiveStrength ** 2).head()"
   ]
  },
  {
   "cell_type": "markdown",
   "metadata": {},
   "source": [
    "# Pandas is really useful!\n",
    "\n",
    "It has a huge set of functionality. Unfortunately it can be a bit overwhelming at first, and requires a bit of a learning curve to get used to it, and there are often multiple ways to accomplish the same task.\n",
    "\n",
    "If you deal with a lot of data, it is far more flexible and resilient than Excel or other spreadsheet programs.\n",
    "\n",
    "Practice is by far the best way to get to grips with it, so why not try it for some of your work? You can write scripts which run end to end to take your data from raw to processed, which means you have fully reproducible work!"
   ]
  },
  {
   "cell_type": "markdown",
   "metadata": {},
   "source": [
    "# Lets do some useful work on our data now\n",
    "\n",
    "## 1) Is there any missing data? \n",
    "\n",
    "We determine which rows are null using [pd.isnull](http://pandas.pydata.org/pandas-docs/version/0.22/generated/pandas.isnull.html)\n",
    "\n",
    "We  can get a series of true or false for each row, depending if they contain nulls, like this: concrete_raw.isnull().any(axis=1)"
   ]
  },
  {
   "cell_type": "code",
   "execution_count": null,
   "metadata": {
    "collapsed": false
   },
   "outputs": [],
   "source": [
    "# lets use this result to filter the rows in our dataframe that contain missing data\n",
    "concrete_raw.loc[concrete_raw.isnull().any(axis = 1), :]"
   ]
  },
  {
   "cell_type": "markdown",
   "metadata": {},
   "source": [
    "## 2) Are there any duplicates inputs? How might we deal with these?"
   ]
  },
  {
   "cell_type": "code",
   "execution_count": null,
   "metadata": {
    "collapsed": false
   },
   "outputs": [],
   "source": [
    "# first, lets create a list of the feature names to easily select them\n",
    "\n",
    "outcome_name = 'CompressiveStrength'\n",
    "\n",
    "feature_names = concrete_raw.columns.values.tolist()\n",
    "feature_names.remove(outcome_name)\n",
    "\n",
    "print(feature_names)\n",
    "print(outcome_name)"
   ]
  },
  {
   "cell_type": "code",
   "execution_count": null,
   "metadata": {
    "collapsed": false
   },
   "outputs": [],
   "source": [
    "# the duplicated method will give a series of true or false if the row is duplicated anywhere\n",
    "# we can sum this boolean matrix (true = 1, false = 0) to let us know how many rows are duplicates\n",
    "(\n",
    "    concrete_raw.loc[:, feature_names]\n",
    "        .duplicated()\n",
    "        .sum()\n",
    ")"
   ]
  },
  {
   "cell_type": "code",
   "execution_count": null,
   "metadata": {
    "collapsed": false
   },
   "outputs": [],
   "source": [
    "# lets take a strategy to resolve this:\n",
    "# where we see multiple measurements for the same mixture,\n",
    "# we will average the observations\n",
    "\n",
    "concrete = (\n",
    "   concrete_raw\n",
    "        .groupby(feature_names)\n",
    "        .agg('mean')\n",
    "        .reset_index()\n",
    ")\n",
    "\n",
    "print(\"old dimensions: {} rows, {} columns\".format(concrete_raw.shape[0], concrete_raw.shape[1]))\n",
    "print(\"new dimensions: {} rows, {} columns\".format(concrete.shape[0], concrete.shape[1]))"
   ]
  },
  {
   "cell_type": "markdown",
   "metadata": {},
   "source": [
    "# Lets wrap this up by writing out processed data to disk\n",
    "\n"
   ]
  },
  {
   "cell_type": "code",
   "execution_count": null,
   "metadata": {
    "collapsed": true
   },
   "outputs": [],
   "source": [
    "concrete.to_csv(\"processed/concrete_processed.csv\", header = True, index = False)"
   ]
  }
 ],
 "metadata": {
  "kernelspec": {
   "display_name": "Python datSci3",
   "language": "python",
   "name": "datsci3-env"
  },
  "language_info": {
   "codemirror_mode": {
    "name": "ipython",
    "version": 3
   },
   "file_extension": ".py",
   "mimetype": "text/x-python",
   "name": "python",
   "nbconvert_exporter": "python",
   "pygments_lexer": "ipython3",
   "version": "3.5.2"
  }
 },
 "nbformat": 4,
 "nbformat_minor": 0
}
